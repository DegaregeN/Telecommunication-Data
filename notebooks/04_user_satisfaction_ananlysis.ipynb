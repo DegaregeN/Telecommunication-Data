{
 "cells": [
  {
   "cell_type": "code",
   "execution_count": 2,
   "metadata": {},
   "outputs": [],
   "source": [
    "%load_ext autoreload\n",
    "%autoreload 2"
   ]
  },
  {
   "cell_type": "code",
   "execution_count": 3,
   "metadata": {},
   "outputs": [],
   "source": [
    "import numpy as np\n",
    "import pandas as pd\n",
    "from sklearn.cluster import KMeans\n",
    "from kneed import KneeLocator\n",
    "from sklearn.metrics.pairwise import euclidean_distances\n",
    "from sklearn.preprocessing import StandardScaler, normalize\n",
    "from sklearn.linear_model import LinearRegression\n",
    "from sklearn import model_selection\n",
    "import matplotlib.pyplot as plt\n",
    "import psycopg2\n",
    "import seaborn as sns\n",
    "import pickle\n",
    "import os\n",
    "import sys"
   ]
  },
  {
   "cell_type": "code",
   "execution_count": 4,
   "metadata": {},
   "outputs": [],
   "source": [
    "#Ignoring Warnings\n",
    "\n",
    "import warnings\n",
    "warnings.filterwarnings('ignore')"
   ]
  },
  {
   "cell_type": "code",
   "execution_count": 5,
   "metadata": {},
   "outputs": [],
   "source": [
    "sys.path.append(os.path.abspath(os.path.join('../scripts')))\n",
    "from preprocessing import PreProcess\n",
    "from overview import Overview\n",
    "from plot import Plot\n",
    "from logger import Logger"
   ]
  },
  {
   "cell_type": "code",
   "execution_count": 6,
   "metadata": {},
   "outputs": [],
   "source": [
    "# Initialize logger\n",
    "logger = Logger(\"userSatisfaction.log\").get_app_logger()\n",
    "logger.info(\"Initialized user satisfaction logger\")"
   ]
  },
  {
   "cell_type": "code",
   "execution_count": 7,
   "metadata": {},
   "outputs": [],
   "source": [
    "#reading the cleaned data in EDA\n",
    "df_org = pd.read_csv(\"C:\\\\Users\\\\1221\\\\Desktop\\\\Telecommunication-Data\\\\data\\\\cleaned telecom data.csv\")\n",
    "df = df_org.copy()"
   ]
  },
  {
   "cell_type": "markdown",
   "metadata": {},
   "source": [
    "Satisfaction Analysis"
   ]
  },
  {
   "cell_type": "code",
   "execution_count": 8,
   "metadata": {},
   "outputs": [],
   "source": [
    "# Import user experience data\n",
    "user_exp = pd.read_csv('../data/user_exp.csv')\n",
    "\n",
    "# Import user engagement data\n",
    "user_eng = pd.read_csv('../data/user_eng.csv')"
   ]
  },
  {
   "cell_type": "code",
   "execution_count": 9,
   "metadata": {},
   "outputs": [
    {
     "data": {
      "text/html": [
       "<div>\n",
       "<style scoped>\n",
       "    .dataframe tbody tr th:only-of-type {\n",
       "        vertical-align: middle;\n",
       "    }\n",
       "\n",
       "    .dataframe tbody tr th {\n",
       "        vertical-align: top;\n",
       "    }\n",
       "\n",
       "    .dataframe thead th {\n",
       "        text-align: right;\n",
       "    }\n",
       "</style>\n",
       "<table border=\"1\" class=\"dataframe\">\n",
       "  <thead>\n",
       "    <tr style=\"text-align: right;\">\n",
       "      <th></th>\n",
       "      <th>MSISDN/Number</th>\n",
       "      <th>cluster</th>\n",
       "      <th>avg_rtt_total</th>\n",
       "      <th>avg_tp_total</th>\n",
       "      <th>total_avg_tcp_total</th>\n",
       "    </tr>\n",
       "  </thead>\n",
       "  <tbody>\n",
       "    <tr>\n",
       "      <th>0</th>\n",
       "      <td>-0.002692</td>\n",
       "      <td>1</td>\n",
       "      <td>0.024925</td>\n",
       "      <td>0.055505</td>\n",
       "      <td>0.103643</td>\n",
       "    </tr>\n",
       "    <tr>\n",
       "      <th>1</th>\n",
       "      <td>-0.002692</td>\n",
       "      <td>1</td>\n",
       "      <td>0.024834</td>\n",
       "      <td>0.055524</td>\n",
       "      <td>0.103643</td>\n",
       "    </tr>\n",
       "    <tr>\n",
       "      <th>2</th>\n",
       "      <td>-0.002692</td>\n",
       "      <td>1</td>\n",
       "      <td>0.026789</td>\n",
       "      <td>0.055522</td>\n",
       "      <td>0.103643</td>\n",
       "    </tr>\n",
       "    <tr>\n",
       "      <th>3</th>\n",
       "      <td>-0.002692</td>\n",
       "      <td>1</td>\n",
       "      <td>0.026209</td>\n",
       "      <td>0.055555</td>\n",
       "      <td>0.103153</td>\n",
       "    </tr>\n",
       "    <tr>\n",
       "      <th>4</th>\n",
       "      <td>-0.002692</td>\n",
       "      <td>0</td>\n",
       "      <td>0.023633</td>\n",
       "      <td>0.081818</td>\n",
       "      <td>0.103244</td>\n",
       "    </tr>\n",
       "  </tbody>\n",
       "</table>\n",
       "</div>"
      ],
      "text/plain": [
       "   MSISDN/Number  cluster  avg_rtt_total  avg_tp_total  total_avg_tcp_total\n",
       "0      -0.002692        1       0.024925      0.055505             0.103643\n",
       "1      -0.002692        1       0.024834      0.055524             0.103643\n",
       "2      -0.002692        1       0.026789      0.055522             0.103643\n",
       "3      -0.002692        1       0.026209      0.055555             0.103153\n",
       "4      -0.002692        0       0.023633      0.081818             0.103244"
      ]
     },
     "execution_count": 9,
     "metadata": {},
     "output_type": "execute_result"
    }
   ],
   "source": [
    "user_exp.head()"
   ]
  },
  {
   "cell_type": "code",
   "execution_count": 10,
   "metadata": {},
   "outputs": [
    {
     "data": {
      "text/html": [
       "<div>\n",
       "<style scoped>\n",
       "    .dataframe tbody tr th:only-of-type {\n",
       "        vertical-align: middle;\n",
       "    }\n",
       "\n",
       "    .dataframe tbody tr th {\n",
       "        vertical-align: top;\n",
       "    }\n",
       "\n",
       "    .dataframe thead th {\n",
       "        text-align: right;\n",
       "    }\n",
       "</style>\n",
       "<table border=\"1\" class=\"dataframe\">\n",
       "  <thead>\n",
       "    <tr style=\"text-align: right;\">\n",
       "      <th></th>\n",
       "      <th>MSISDN/Number</th>\n",
       "      <th>cluster</th>\n",
       "      <th>sessions</th>\n",
       "      <th>Dur. (ms).1</th>\n",
       "      <th>total_data</th>\n",
       "    </tr>\n",
       "  </thead>\n",
       "  <tbody>\n",
       "    <tr>\n",
       "      <th>0</th>\n",
       "      <td>-0.002692</td>\n",
       "      <td>2</td>\n",
       "      <td>1</td>\n",
       "      <td>0.146799</td>\n",
       "      <td>1.139608</td>\n",
       "    </tr>\n",
       "    <tr>\n",
       "      <th>1</th>\n",
       "      <td>-0.002692</td>\n",
       "      <td>1</td>\n",
       "      <td>1</td>\n",
       "      <td>0.944041</td>\n",
       "      <td>-1.812243</td>\n",
       "    </tr>\n",
       "    <tr>\n",
       "      <th>2</th>\n",
       "      <td>-0.002692</td>\n",
       "      <td>0</td>\n",
       "      <td>1</td>\n",
       "      <td>0.372328</td>\n",
       "      <td>0.256948</td>\n",
       "    </tr>\n",
       "    <tr>\n",
       "      <th>3</th>\n",
       "      <td>-0.002692</td>\n",
       "      <td>1</td>\n",
       "      <td>1</td>\n",
       "      <td>-0.679254</td>\n",
       "      <td>-2.059544</td>\n",
       "    </tr>\n",
       "    <tr>\n",
       "      <th>4</th>\n",
       "      <td>-0.002692</td>\n",
       "      <td>2</td>\n",
       "      <td>2</td>\n",
       "      <td>-2.132773</td>\n",
       "      <td>2.926302</td>\n",
       "    </tr>\n",
       "  </tbody>\n",
       "</table>\n",
       "</div>"
      ],
      "text/plain": [
       "   MSISDN/Number  cluster  sessions  Dur. (ms).1  total_data\n",
       "0      -0.002692        2         1     0.146799    1.139608\n",
       "1      -0.002692        1         1     0.944041   -1.812243\n",
       "2      -0.002692        0         1     0.372328    0.256948\n",
       "3      -0.002692        1         1    -0.679254   -2.059544\n",
       "4      -0.002692        2         2    -2.132773    2.926302"
      ]
     },
     "execution_count": 10,
     "metadata": {},
     "output_type": "execute_result"
    }
   ],
   "source": [
    "user_eng.head()"
   ]
  },
  {
   "cell_type": "code",
   "execution_count": 11,
   "metadata": {},
   "outputs": [
    {
     "data": {
      "text/html": [
       "<div>\n",
       "<style scoped>\n",
       "    .dataframe tbody tr th:only-of-type {\n",
       "        vertical-align: middle;\n",
       "    }\n",
       "\n",
       "    .dataframe tbody tr th {\n",
       "        vertical-align: top;\n",
       "    }\n",
       "\n",
       "    .dataframe thead th {\n",
       "        text-align: right;\n",
       "    }\n",
       "</style>\n",
       "<table border=\"1\" class=\"dataframe\">\n",
       "  <thead>\n",
       "    <tr style=\"text-align: right;\">\n",
       "      <th></th>\n",
       "      <th>0</th>\n",
       "      <th>1</th>\n",
       "      <th>2</th>\n",
       "    </tr>\n",
       "  </thead>\n",
       "  <tbody>\n",
       "    <tr>\n",
       "      <th>0</th>\n",
       "      <td>-0.232540</td>\n",
       "      <td>0.076622</td>\n",
       "      <td>0.680985</td>\n",
       "    </tr>\n",
       "    <tr>\n",
       "      <th>1</th>\n",
       "      <td>-0.232540</td>\n",
       "      <td>0.492745</td>\n",
       "      <td>-1.082925</td>\n",
       "    </tr>\n",
       "    <tr>\n",
       "      <th>2</th>\n",
       "      <td>-0.232540</td>\n",
       "      <td>0.194338</td>\n",
       "      <td>0.153542</td>\n",
       "    </tr>\n",
       "    <tr>\n",
       "      <th>3</th>\n",
       "      <td>-0.232540</td>\n",
       "      <td>-0.354539</td>\n",
       "      <td>-1.230702</td>\n",
       "    </tr>\n",
       "    <tr>\n",
       "      <th>4</th>\n",
       "      <td>0.359739</td>\n",
       "      <td>-1.113207</td>\n",
       "      <td>1.748642</td>\n",
       "    </tr>\n",
       "  </tbody>\n",
       "</table>\n",
       "</div>"
      ],
      "text/plain": [
       "          0         1         2\n",
       "0 -0.232540  0.076622  0.680985\n",
       "1 -0.232540  0.492745 -1.082925\n",
       "2 -0.232540  0.194338  0.153542\n",
       "3 -0.232540 -0.354539 -1.230702\n",
       "4  0.359739 -1.113207  1.748642"
      ]
     },
     "execution_count": 11,
     "metadata": {},
     "output_type": "execute_result"
    }
   ],
   "source": [
    "user_eng_df = user_eng.set_index('MSISDN/Number')[\n",
    "    ['sessions','Dur. (ms).1', 'total_data']]\n",
    "scaler = StandardScaler()\n",
    "scaled_array = scaler.fit_transform(user_eng_df)\n",
    "pd.DataFrame(scaled_array).head(5)"
   ]
  },
  {
   "cell_type": "code",
   "execution_count": 12,
   "metadata": {},
   "outputs": [
    {
     "data": {
      "text/html": [
       "<div>\n",
       "<style scoped>\n",
       "    .dataframe tbody tr th:only-of-type {\n",
       "        vertical-align: middle;\n",
       "    }\n",
       "\n",
       "    .dataframe tbody tr th {\n",
       "        vertical-align: top;\n",
       "    }\n",
       "\n",
       "    .dataframe thead th {\n",
       "        text-align: right;\n",
       "    }\n",
       "</style>\n",
       "<table border=\"1\" class=\"dataframe\">\n",
       "  <thead>\n",
       "    <tr style=\"text-align: right;\">\n",
       "      <th></th>\n",
       "      <th>0</th>\n",
       "      <th>1</th>\n",
       "      <th>2</th>\n",
       "    </tr>\n",
       "  </thead>\n",
       "  <tbody>\n",
       "    <tr>\n",
       "      <th>0</th>\n",
       "      <td>-0.321338</td>\n",
       "      <td>0.105881</td>\n",
       "      <td>0.941027</td>\n",
       "    </tr>\n",
       "    <tr>\n",
       "      <th>1</th>\n",
       "      <td>-0.191822</td>\n",
       "      <td>0.406465</td>\n",
       "      <td>-0.893303</td>\n",
       "    </tr>\n",
       "    <tr>\n",
       "      <th>2</th>\n",
       "      <td>-0.684482</td>\n",
       "      <td>0.572034</td>\n",
       "      <td>0.451952</td>\n",
       "    </tr>\n",
       "    <tr>\n",
       "      <th>3</th>\n",
       "      <td>-0.178644</td>\n",
       "      <td>-0.272368</td>\n",
       "      <td>-0.945464</td>\n",
       "    </tr>\n",
       "    <tr>\n",
       "      <th>4</th>\n",
       "      <td>0.170987</td>\n",
       "      <td>-0.529116</td>\n",
       "      <td>0.831143</td>\n",
       "    </tr>\n",
       "  </tbody>\n",
       "</table>\n",
       "</div>"
      ],
      "text/plain": [
       "          0         1         2\n",
       "0 -0.321338  0.105881  0.941027\n",
       "1 -0.191822  0.406465 -0.893303\n",
       "2 -0.684482  0.572034  0.451952\n",
       "3 -0.178644 -0.272368 -0.945464\n",
       "4  0.170987 -0.529116  0.831143"
      ]
     },
     "execution_count": 12,
     "metadata": {},
     "output_type": "execute_result"
    }
   ],
   "source": [
    "data_normalized = normalize(scaled_array)\n",
    "pd.DataFrame(data_normalized).head(5)"
   ]
  },
  {
   "cell_type": "markdown",
   "metadata": {},
   "source": [
    "Calculate Engagement and Experience Scores"
   ]
  },
  {
   "cell_type": "code",
   "execution_count": null,
   "metadata": {},
   "outputs": [],
   "source": []
  },
  {
   "cell_type": "code",
   "execution_count": null,
   "metadata": {},
   "outputs": [],
   "source": []
  },
  {
   "cell_type": "code",
   "execution_count": null,
   "metadata": {},
   "outputs": [],
   "source": []
  },
  {
   "cell_type": "code",
   "execution_count": null,
   "metadata": {},
   "outputs": [],
   "source": []
  }
 ],
 "metadata": {
  "kernelspec": {
   "display_name": "myvenv",
   "language": "python",
   "name": "python3"
  },
  "language_info": {
   "codemirror_mode": {
    "name": "ipython",
    "version": 3
   },
   "file_extension": ".py",
   "mimetype": "text/x-python",
   "name": "python",
   "nbconvert_exporter": "python",
   "pygments_lexer": "ipython3",
   "version": "3.11.7"
  }
 },
 "nbformat": 4,
 "nbformat_minor": 2
}
