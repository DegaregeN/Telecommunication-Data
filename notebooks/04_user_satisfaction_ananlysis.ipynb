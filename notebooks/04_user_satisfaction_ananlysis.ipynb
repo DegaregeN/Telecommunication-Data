{
 "cells": [
  {
   "cell_type": "code",
   "execution_count": 1,
   "metadata": {},
   "outputs": [],
   "source": [
    "%load_ext autoreload\n",
    "%autoreload 2"
   ]
  },
  {
   "cell_type": "code",
   "execution_count": 2,
   "metadata": {},
   "outputs": [],
   "source": [
    "import numpy as np\n",
    "import pandas as pd\n",
    "from sklearn.cluster import KMeans\n",
    "from kneed import KneeLocator\n",
    "from sklearn.metrics.pairwise import euclidean_distances\n",
    "from sklearn.preprocessing import StandardScaler, normalize\n",
    "from sklearn.linear_model import LinearRegression\n",
    "from sklearn import model_selection\n",
    "import matplotlib.pyplot as plt\n",
    "import psycopg2\n",
    "import seaborn as sns\n",
    "import pickle\n",
    "import os\n",
    "import sys"
   ]
  },
  {
   "cell_type": "code",
   "execution_count": 3,
   "metadata": {},
   "outputs": [],
   "source": [
    "#Ignoring Warnings\n",
    "\n",
    "import warnings\n",
    "warnings.filterwarnings('ignore')"
   ]
  },
  {
   "cell_type": "code",
   "execution_count": 4,
   "metadata": {},
   "outputs": [],
   "source": [
    "sys.path.append(os.path.abspath(os.path.join('../scripts')))\n",
    "from preprocessing import PreProcess\n",
    "from overview import Overview\n",
    "from plot import Plot\n",
    "from logger import Logger"
   ]
  },
  {
   "cell_type": "code",
   "execution_count": 5,
   "metadata": {},
   "outputs": [],
   "source": [
    "# Initialize logger\n",
    "logger = Logger(\"userSatisfaction.log\").get_app_logger()\n",
    "logger.info(\"Initialized user satisfaction logger\")"
   ]
  },
  {
   "cell_type": "code",
   "execution_count": 6,
   "metadata": {},
   "outputs": [],
   "source": [
    "pl = Plot()"
   ]
  },
  {
   "cell_type": "code",
   "execution_count": 7,
   "metadata": {},
   "outputs": [],
   "source": [
    "#reading the cleaned data in EDA\n",
    "df_org = pd.read_csv(\"C:\\\\Users\\\\1221\\\\Desktop\\\\Telecommunication-Data\\\\data\\\\cleaned telecom data.csv\")\n",
    "df = df_org.copy()"
   ]
  },
  {
   "cell_type": "markdown",
   "metadata": {},
   "source": [
    "Satisfaction Analysis"
   ]
  },
  {
   "cell_type": "code",
   "execution_count": 8,
   "metadata": {},
   "outputs": [],
   "source": [
    "# Import user experience data\n",
    "user_exp = pd.read_csv('../data/user_exp.csv')\n",
    "\n",
    "# Import user engagement data\n",
    "user_eng = pd.read_csv('../data/user_eng.csv')"
   ]
  },
  {
   "cell_type": "code",
   "execution_count": 9,
   "metadata": {},
   "outputs": [
    {
     "data": {
      "text/html": [
       "<div>\n",
       "<style scoped>\n",
       "    .dataframe tbody tr th:only-of-type {\n",
       "        vertical-align: middle;\n",
       "    }\n",
       "\n",
       "    .dataframe tbody tr th {\n",
       "        vertical-align: top;\n",
       "    }\n",
       "\n",
       "    .dataframe thead th {\n",
       "        text-align: right;\n",
       "    }\n",
       "</style>\n",
       "<table border=\"1\" class=\"dataframe\">\n",
       "  <thead>\n",
       "    <tr style=\"text-align: right;\">\n",
       "      <th></th>\n",
       "      <th>MSISDN/Number</th>\n",
       "      <th>cluster</th>\n",
       "      <th>avg_rtt_total</th>\n",
       "      <th>avg_tp_total</th>\n",
       "      <th>total_avg_tcp_total</th>\n",
       "    </tr>\n",
       "  </thead>\n",
       "  <tbody>\n",
       "    <tr>\n",
       "      <th>0</th>\n",
       "      <td>-0.002692</td>\n",
       "      <td>1</td>\n",
       "      <td>0.024925</td>\n",
       "      <td>0.055505</td>\n",
       "      <td>0.103643</td>\n",
       "    </tr>\n",
       "    <tr>\n",
       "      <th>1</th>\n",
       "      <td>-0.002692</td>\n",
       "      <td>1</td>\n",
       "      <td>0.024834</td>\n",
       "      <td>0.055524</td>\n",
       "      <td>0.103643</td>\n",
       "    </tr>\n",
       "    <tr>\n",
       "      <th>2</th>\n",
       "      <td>-0.002692</td>\n",
       "      <td>1</td>\n",
       "      <td>0.026789</td>\n",
       "      <td>0.055522</td>\n",
       "      <td>0.103643</td>\n",
       "    </tr>\n",
       "    <tr>\n",
       "      <th>3</th>\n",
       "      <td>-0.002692</td>\n",
       "      <td>1</td>\n",
       "      <td>0.026209</td>\n",
       "      <td>0.055555</td>\n",
       "      <td>0.103153</td>\n",
       "    </tr>\n",
       "    <tr>\n",
       "      <th>4</th>\n",
       "      <td>-0.002692</td>\n",
       "      <td>0</td>\n",
       "      <td>0.023633</td>\n",
       "      <td>0.081818</td>\n",
       "      <td>0.103244</td>\n",
       "    </tr>\n",
       "  </tbody>\n",
       "</table>\n",
       "</div>"
      ],
      "text/plain": [
       "   MSISDN/Number  cluster  avg_rtt_total  avg_tp_total  total_avg_tcp_total\n",
       "0      -0.002692        1       0.024925      0.055505             0.103643\n",
       "1      -0.002692        1       0.024834      0.055524             0.103643\n",
       "2      -0.002692        1       0.026789      0.055522             0.103643\n",
       "3      -0.002692        1       0.026209      0.055555             0.103153\n",
       "4      -0.002692        0       0.023633      0.081818             0.103244"
      ]
     },
     "execution_count": 9,
     "metadata": {},
     "output_type": "execute_result"
    }
   ],
   "source": [
    "user_exp.head()"
   ]
  },
  {
   "cell_type": "code",
   "execution_count": 10,
   "metadata": {},
   "outputs": [
    {
     "data": {
      "text/html": [
       "<div>\n",
       "<style scoped>\n",
       "    .dataframe tbody tr th:only-of-type {\n",
       "        vertical-align: middle;\n",
       "    }\n",
       "\n",
       "    .dataframe tbody tr th {\n",
       "        vertical-align: top;\n",
       "    }\n",
       "\n",
       "    .dataframe thead th {\n",
       "        text-align: right;\n",
       "    }\n",
       "</style>\n",
       "<table border=\"1\" class=\"dataframe\">\n",
       "  <thead>\n",
       "    <tr style=\"text-align: right;\">\n",
       "      <th></th>\n",
       "      <th>MSISDN/Number</th>\n",
       "      <th>cluster</th>\n",
       "      <th>sessions</th>\n",
       "      <th>Dur. (ms).1</th>\n",
       "      <th>total_data</th>\n",
       "    </tr>\n",
       "  </thead>\n",
       "  <tbody>\n",
       "    <tr>\n",
       "      <th>0</th>\n",
       "      <td>-0.002692</td>\n",
       "      <td>2</td>\n",
       "      <td>1</td>\n",
       "      <td>0.146799</td>\n",
       "      <td>1.139608</td>\n",
       "    </tr>\n",
       "    <tr>\n",
       "      <th>1</th>\n",
       "      <td>-0.002692</td>\n",
       "      <td>1</td>\n",
       "      <td>1</td>\n",
       "      <td>0.944041</td>\n",
       "      <td>-1.812243</td>\n",
       "    </tr>\n",
       "    <tr>\n",
       "      <th>2</th>\n",
       "      <td>-0.002692</td>\n",
       "      <td>0</td>\n",
       "      <td>1</td>\n",
       "      <td>0.372328</td>\n",
       "      <td>0.256948</td>\n",
       "    </tr>\n",
       "    <tr>\n",
       "      <th>3</th>\n",
       "      <td>-0.002692</td>\n",
       "      <td>1</td>\n",
       "      <td>1</td>\n",
       "      <td>-0.679254</td>\n",
       "      <td>-2.059544</td>\n",
       "    </tr>\n",
       "    <tr>\n",
       "      <th>4</th>\n",
       "      <td>-0.002692</td>\n",
       "      <td>2</td>\n",
       "      <td>2</td>\n",
       "      <td>-2.132773</td>\n",
       "      <td>2.926302</td>\n",
       "    </tr>\n",
       "  </tbody>\n",
       "</table>\n",
       "</div>"
      ],
      "text/plain": [
       "   MSISDN/Number  cluster  sessions  Dur. (ms).1  total_data\n",
       "0      -0.002692        2         1     0.146799    1.139608\n",
       "1      -0.002692        1         1     0.944041   -1.812243\n",
       "2      -0.002692        0         1     0.372328    0.256948\n",
       "3      -0.002692        1         1    -0.679254   -2.059544\n",
       "4      -0.002692        2         2    -2.132773    2.926302"
      ]
     },
     "execution_count": 10,
     "metadata": {},
     "output_type": "execute_result"
    }
   ],
   "source": [
    "user_eng.head()"
   ]
  },
  {
   "cell_type": "code",
   "execution_count": 11,
   "metadata": {},
   "outputs": [],
   "source": [
    "with open(\"../models/user_eng.pkl\", \"rb\") as f:\n",
    "    kmeans1 = pickle.load(f)\n",
    "    \n",
    "with open(\"../models/user_exp.pkl\", \"rb\") as f:\n",
    "    kmeans2 = pickle.load(f)"
   ]
  },
  {
   "cell_type": "markdown",
   "metadata": {},
   "source": [
    "Calculating distance between centroids"
   ]
  },
  {
   "cell_type": "code",
   "execution_count": 12,
   "metadata": {},
   "outputs": [
    {
     "data": {
      "text/html": [
       "<div>\n",
       "<style scoped>\n",
       "    .dataframe tbody tr th:only-of-type {\n",
       "        vertical-align: middle;\n",
       "    }\n",
       "\n",
       "    .dataframe tbody tr th {\n",
       "        vertical-align: top;\n",
       "    }\n",
       "\n",
       "    .dataframe thead th {\n",
       "        text-align: right;\n",
       "    }\n",
       "</style>\n",
       "<table border=\"1\" class=\"dataframe\">\n",
       "  <thead>\n",
       "    <tr style=\"text-align: right;\">\n",
       "      <th></th>\n",
       "      <th>0</th>\n",
       "      <th>1</th>\n",
       "      <th>2</th>\n",
       "    </tr>\n",
       "  </thead>\n",
       "  <tbody>\n",
       "    <tr>\n",
       "      <th>0</th>\n",
       "      <td>-0.232540</td>\n",
       "      <td>0.076622</td>\n",
       "      <td>0.680985</td>\n",
       "    </tr>\n",
       "    <tr>\n",
       "      <th>1</th>\n",
       "      <td>-0.232540</td>\n",
       "      <td>0.492745</td>\n",
       "      <td>-1.082925</td>\n",
       "    </tr>\n",
       "    <tr>\n",
       "      <th>2</th>\n",
       "      <td>-0.232540</td>\n",
       "      <td>0.194338</td>\n",
       "      <td>0.153542</td>\n",
       "    </tr>\n",
       "    <tr>\n",
       "      <th>3</th>\n",
       "      <td>-0.232540</td>\n",
       "      <td>-0.354539</td>\n",
       "      <td>-1.230702</td>\n",
       "    </tr>\n",
       "    <tr>\n",
       "      <th>4</th>\n",
       "      <td>0.359739</td>\n",
       "      <td>-1.113207</td>\n",
       "      <td>1.748642</td>\n",
       "    </tr>\n",
       "  </tbody>\n",
       "</table>\n",
       "</div>"
      ],
      "text/plain": [
       "          0         1         2\n",
       "0 -0.232540  0.076622  0.680985\n",
       "1 -0.232540  0.492745 -1.082925\n",
       "2 -0.232540  0.194338  0.153542\n",
       "3 -0.232540 -0.354539 -1.230702\n",
       "4  0.359739 -1.113207  1.748642"
      ]
     },
     "execution_count": 12,
     "metadata": {},
     "output_type": "execute_result"
    }
   ],
   "source": [
    "user_eng_df = user_eng.set_index('MSISDN/Number')[\n",
    "    ['sessions','Dur. (ms).1', 'total_data']]\n",
    "scaler = StandardScaler()\n",
    "scaled_array = scaler.fit_transform(user_eng_df)\n",
    "pd.DataFrame(scaled_array).head(5)"
   ]
  },
  {
   "cell_type": "code",
   "execution_count": 13,
   "metadata": {},
   "outputs": [
    {
     "data": {
      "text/html": [
       "<div>\n",
       "<style scoped>\n",
       "    .dataframe tbody tr th:only-of-type {\n",
       "        vertical-align: middle;\n",
       "    }\n",
       "\n",
       "    .dataframe tbody tr th {\n",
       "        vertical-align: top;\n",
       "    }\n",
       "\n",
       "    .dataframe thead th {\n",
       "        text-align: right;\n",
       "    }\n",
       "</style>\n",
       "<table border=\"1\" class=\"dataframe\">\n",
       "  <thead>\n",
       "    <tr style=\"text-align: right;\">\n",
       "      <th></th>\n",
       "      <th>0</th>\n",
       "      <th>1</th>\n",
       "      <th>2</th>\n",
       "    </tr>\n",
       "  </thead>\n",
       "  <tbody>\n",
       "    <tr>\n",
       "      <th>0</th>\n",
       "      <td>-0.321338</td>\n",
       "      <td>0.105881</td>\n",
       "      <td>0.941027</td>\n",
       "    </tr>\n",
       "    <tr>\n",
       "      <th>1</th>\n",
       "      <td>-0.191822</td>\n",
       "      <td>0.406465</td>\n",
       "      <td>-0.893303</td>\n",
       "    </tr>\n",
       "    <tr>\n",
       "      <th>2</th>\n",
       "      <td>-0.684482</td>\n",
       "      <td>0.572034</td>\n",
       "      <td>0.451952</td>\n",
       "    </tr>\n",
       "    <tr>\n",
       "      <th>3</th>\n",
       "      <td>-0.178644</td>\n",
       "      <td>-0.272368</td>\n",
       "      <td>-0.945464</td>\n",
       "    </tr>\n",
       "    <tr>\n",
       "      <th>4</th>\n",
       "      <td>0.170987</td>\n",
       "      <td>-0.529116</td>\n",
       "      <td>0.831143</td>\n",
       "    </tr>\n",
       "  </tbody>\n",
       "</table>\n",
       "</div>"
      ],
      "text/plain": [
       "          0         1         2\n",
       "0 -0.321338  0.105881  0.941027\n",
       "1 -0.191822  0.406465 -0.893303\n",
       "2 -0.684482  0.572034  0.451952\n",
       "3 -0.178644 -0.272368 -0.945464\n",
       "4  0.170987 -0.529116  0.831143"
      ]
     },
     "execution_count": 13,
     "metadata": {},
     "output_type": "execute_result"
    }
   ],
   "source": [
    "data_normalized = normalize(scaled_array)\n",
    "pd.DataFrame(data_normalized).head(5)"
   ]
  },
  {
   "cell_type": "markdown",
   "metadata": {},
   "source": [
    "Calculate Engagement and Experience Scores"
   ]
  },
  {
   "cell_type": "code",
   "execution_count": 14,
   "metadata": {},
   "outputs": [
    {
     "data": {
      "text/html": [
       "<div>\n",
       "<style scoped>\n",
       "    .dataframe tbody tr th:only-of-type {\n",
       "        vertical-align: middle;\n",
       "    }\n",
       "\n",
       "    .dataframe tbody tr th {\n",
       "        vertical-align: top;\n",
       "    }\n",
       "\n",
       "    .dataframe thead th {\n",
       "        text-align: right;\n",
       "    }\n",
       "</style>\n",
       "<table border=\"1\" class=\"dataframe\">\n",
       "  <thead>\n",
       "    <tr style=\"text-align: right;\">\n",
       "      <th></th>\n",
       "      <th>MSISDN/Number</th>\n",
       "      <th>cluster</th>\n",
       "      <th>sessions</th>\n",
       "      <th>Dur. (ms).1</th>\n",
       "      <th>total_data</th>\n",
       "      <th>engagement_score</th>\n",
       "    </tr>\n",
       "  </thead>\n",
       "  <tbody>\n",
       "    <tr>\n",
       "      <th>0</th>\n",
       "      <td>-0.002692</td>\n",
       "      <td>2</td>\n",
       "      <td>1</td>\n",
       "      <td>0.146799</td>\n",
       "      <td>1.139608</td>\n",
       "      <td>1.171339</td>\n",
       "    </tr>\n",
       "    <tr>\n",
       "      <th>1</th>\n",
       "      <td>-0.002692</td>\n",
       "      <td>1</td>\n",
       "      <td>1</td>\n",
       "      <td>0.944041</td>\n",
       "      <td>-1.812243</td>\n",
       "      <td>1.018048</td>\n",
       "    </tr>\n",
       "    <tr>\n",
       "      <th>2</th>\n",
       "      <td>-0.002692</td>\n",
       "      <td>0</td>\n",
       "      <td>1</td>\n",
       "      <td>0.372328</td>\n",
       "      <td>0.256948</td>\n",
       "      <td>0.565240</td>\n",
       "    </tr>\n",
       "    <tr>\n",
       "      <th>3</th>\n",
       "      <td>-0.002692</td>\n",
       "      <td>1</td>\n",
       "      <td>1</td>\n",
       "      <td>-0.679254</td>\n",
       "      <td>-2.059544</td>\n",
       "      <td>1.466451</td>\n",
       "    </tr>\n",
       "    <tr>\n",
       "      <th>4</th>\n",
       "      <td>-0.002692</td>\n",
       "      <td>2</td>\n",
       "      <td>2</td>\n",
       "      <td>-2.132773</td>\n",
       "      <td>2.926302</td>\n",
       "      <td>1.679832</td>\n",
       "    </tr>\n",
       "  </tbody>\n",
       "</table>\n",
       "</div>"
      ],
      "text/plain": [
       "   MSISDN/Number  cluster  sessions  Dur. (ms).1  total_data  engagement_score\n",
       "0      -0.002692        2         1     0.146799    1.139608          1.171339\n",
       "1      -0.002692        1         1     0.944041   -1.812243          1.018048\n",
       "2      -0.002692        0         1     0.372328    0.256948          0.565240\n",
       "3      -0.002692        1         1    -0.679254   -2.059544          1.466451\n",
       "4      -0.002692        2         2    -2.132773    2.926302          1.679832"
      ]
     },
     "execution_count": 14,
     "metadata": {},
     "output_type": "execute_result"
    }
   ],
   "source": [
    "distance = kmeans1.fit_transform(data_normalized)\n",
    "distance_from_less_engagement = list(\n",
    "    map(lambda x: x[3], distance))\n",
    "user_eng['engagement_score'] = distance_from_less_engagement\n",
    "user_eng.head(5)"
   ]
  },
  {
   "cell_type": "code",
   "execution_count": 15,
   "metadata": {},
   "outputs": [
    {
     "data": {
      "text/plain": [
       "106294"
      ]
     },
     "execution_count": 15,
     "metadata": {},
     "output_type": "execute_result"
    }
   ],
   "source": [
    "len(user_exp)"
   ]
  },
  {
   "cell_type": "code",
   "execution_count": 16,
   "metadata": {},
   "outputs": [
    {
     "data": {
      "text/html": [
       "<div>\n",
       "<style scoped>\n",
       "    .dataframe tbody tr th:only-of-type {\n",
       "        vertical-align: middle;\n",
       "    }\n",
       "\n",
       "    .dataframe tbody tr th {\n",
       "        vertical-align: top;\n",
       "    }\n",
       "\n",
       "    .dataframe thead th {\n",
       "        text-align: right;\n",
       "    }\n",
       "</style>\n",
       "<table border=\"1\" class=\"dataframe\">\n",
       "  <thead>\n",
       "    <tr style=\"text-align: right;\">\n",
       "      <th></th>\n",
       "      <th>MSISDN/Number</th>\n",
       "      <th>cluster</th>\n",
       "      <th>avg_rtt_total</th>\n",
       "      <th>avg_tp_total</th>\n",
       "      <th>total_avg_tcp_total</th>\n",
       "      <th>experience_score</th>\n",
       "    </tr>\n",
       "  </thead>\n",
       "  <tbody>\n",
       "    <tr>\n",
       "      <th>0</th>\n",
       "      <td>-0.002692</td>\n",
       "      <td>1</td>\n",
       "      <td>0.024925</td>\n",
       "      <td>0.055505</td>\n",
       "      <td>0.103643</td>\n",
       "      <td>1.135669</td>\n",
       "    </tr>\n",
       "    <tr>\n",
       "      <th>1</th>\n",
       "      <td>-0.002692</td>\n",
       "      <td>1</td>\n",
       "      <td>0.024834</td>\n",
       "      <td>0.055524</td>\n",
       "      <td>0.103643</td>\n",
       "      <td>0.970135</td>\n",
       "    </tr>\n",
       "    <tr>\n",
       "      <th>2</th>\n",
       "      <td>-0.002692</td>\n",
       "      <td>1</td>\n",
       "      <td>0.026789</td>\n",
       "      <td>0.055522</td>\n",
       "      <td>0.103643</td>\n",
       "      <td>0.708180</td>\n",
       "    </tr>\n",
       "    <tr>\n",
       "      <th>3</th>\n",
       "      <td>-0.002692</td>\n",
       "      <td>1</td>\n",
       "      <td>0.026209</td>\n",
       "      <td>0.055555</td>\n",
       "      <td>0.103153</td>\n",
       "      <td>1.398297</td>\n",
       "    </tr>\n",
       "    <tr>\n",
       "      <th>4</th>\n",
       "      <td>-0.002692</td>\n",
       "      <td>0</td>\n",
       "      <td>0.023633</td>\n",
       "      <td>0.081818</td>\n",
       "      <td>0.103244</td>\n",
       "      <td>1.545116</td>\n",
       "    </tr>\n",
       "  </tbody>\n",
       "</table>\n",
       "</div>"
      ],
      "text/plain": [
       "   MSISDN/Number  cluster  avg_rtt_total  avg_tp_total  total_avg_tcp_total  \\\n",
       "0      -0.002692        1       0.024925      0.055505             0.103643   \n",
       "1      -0.002692        1       0.024834      0.055524             0.103643   \n",
       "2      -0.002692        1       0.026789      0.055522             0.103643   \n",
       "3      -0.002692        1       0.026209      0.055555             0.103153   \n",
       "4      -0.002692        0       0.023633      0.081818             0.103244   \n",
       "\n",
       "   experience_score  \n",
       "0          1.135669  \n",
       "1          0.970135  \n",
       "2          0.708180  \n",
       "3          1.398297  \n",
       "4          1.545116  "
      ]
     },
     "execution_count": 16,
     "metadata": {},
     "output_type": "execute_result"
    }
   ],
   "source": [
    "exp_df = user_exp.set_index('MSISDN/Number')\n",
    "distance = kmeans2.fit_transform(data_normalized)\n",
    "distance_from_worest_experiance = list(\n",
    "    map(lambda x: x[0], distance))\n",
    "user_exp['experience_score'] = distance_from_worest_experiance\n",
    "user_exp.head(5)"
   ]
  },
  {
   "cell_type": "markdown",
   "metadata": {},
   "source": [
    "Consider the average of both engagement & experience scores as the satisfaction score & report the top 10 satisfied customer"
   ]
  },
  {
   "cell_type": "code",
   "execution_count": 17,
   "metadata": {},
   "outputs": [
    {
     "data": {
      "text/plain": [
       "[0.0,\n",
       " -0.0026115922481722,\n",
       " -0.0026374045086186,\n",
       " -0.0026231732965698,\n",
       " -0.0026579428547393]"
      ]
     },
     "execution_count": 17,
     "metadata": {},
     "output_type": "execute_result"
    }
   ],
   "source": [
    "user_eng_id = user_eng['MSISDN/Number'].values\n",
    "user_exp_id = user_exp['MSISDN/Number'].values\n",
    "user_intersection = list(\n",
    "    set(user_eng_id).intersection(user_exp_id))\n",
    "user_intersection[:5]"
   ]
  },
  {
   "cell_type": "code",
   "execution_count": 18,
   "metadata": {},
   "outputs": [
    {
     "data": {
      "text/plain": [
       "(106294, 6)"
      ]
     },
     "execution_count": 18,
     "metadata": {},
     "output_type": "execute_result"
    }
   ],
   "source": [
    "user_eng_df = user_eng[user_eng['MSISDN/Number'].isin(\n",
    "    user_intersection)]\n",
    "\n",
    "user_eng_df.shape"
   ]
  },
  {
   "cell_type": "code",
   "execution_count": 19,
   "metadata": {},
   "outputs": [
    {
     "data": {
      "text/plain": [
       "(106294, 6)"
      ]
     },
     "execution_count": 19,
     "metadata": {},
     "output_type": "execute_result"
    }
   ],
   "source": [
    "user_expe_df = user_exp[user_exp['MSISDN/Number'].isin(\n",
    "    user_intersection)]\n",
    "\n",
    "user_expe_df.shape"
   ]
  },
  {
   "cell_type": "markdown",
   "metadata": {},
   "source": [
    "Calulate the satisfaction score for each customer based on engagement & experience score"
   ]
  },
  {
   "cell_type": "code",
   "execution_count": 20,
   "metadata": {},
   "outputs": [
    {
     "data": {
      "text/html": [
       "<div>\n",
       "<style scoped>\n",
       "    .dataframe tbody tr th:only-of-type {\n",
       "        vertical-align: middle;\n",
       "    }\n",
       "\n",
       "    .dataframe tbody tr th {\n",
       "        vertical-align: top;\n",
       "    }\n",
       "\n",
       "    .dataframe thead th {\n",
       "        text-align: right;\n",
       "    }\n",
       "</style>\n",
       "<table border=\"1\" class=\"dataframe\">\n",
       "  <thead>\n",
       "    <tr style=\"text-align: right;\">\n",
       "      <th></th>\n",
       "      <th>MSISDN/Number</th>\n",
       "      <th>cluster_x</th>\n",
       "      <th>sessions</th>\n",
       "      <th>Dur. (ms).1</th>\n",
       "      <th>total_data</th>\n",
       "      <th>engagement_score</th>\n",
       "      <th>cluster_y</th>\n",
       "      <th>avg_rtt_total</th>\n",
       "      <th>avg_tp_total</th>\n",
       "      <th>total_avg_tcp_total</th>\n",
       "      <th>experience_score</th>\n",
       "      <th>satisfaction_score</th>\n",
       "    </tr>\n",
       "  </thead>\n",
       "  <tbody>\n",
       "    <tr>\n",
       "      <th>0</th>\n",
       "      <td>-0.002692</td>\n",
       "      <td>2</td>\n",
       "      <td>1</td>\n",
       "      <td>0.146799</td>\n",
       "      <td>1.139608</td>\n",
       "      <td>1.171339</td>\n",
       "      <td>1</td>\n",
       "      <td>0.024925</td>\n",
       "      <td>0.055505</td>\n",
       "      <td>0.103643</td>\n",
       "      <td>1.135669</td>\n",
       "      <td>1.153504</td>\n",
       "    </tr>\n",
       "    <tr>\n",
       "      <th>1</th>\n",
       "      <td>-0.002692</td>\n",
       "      <td>1</td>\n",
       "      <td>1</td>\n",
       "      <td>0.944041</td>\n",
       "      <td>-1.812243</td>\n",
       "      <td>1.018048</td>\n",
       "      <td>1</td>\n",
       "      <td>0.024834</td>\n",
       "      <td>0.055524</td>\n",
       "      <td>0.103643</td>\n",
       "      <td>0.970135</td>\n",
       "      <td>0.994092</td>\n",
       "    </tr>\n",
       "    <tr>\n",
       "      <th>2</th>\n",
       "      <td>-0.002692</td>\n",
       "      <td>0</td>\n",
       "      <td>1</td>\n",
       "      <td>0.372328</td>\n",
       "      <td>0.256948</td>\n",
       "      <td>0.565240</td>\n",
       "      <td>1</td>\n",
       "      <td>0.026789</td>\n",
       "      <td>0.055522</td>\n",
       "      <td>0.103643</td>\n",
       "      <td>0.708180</td>\n",
       "      <td>0.636710</td>\n",
       "    </tr>\n",
       "    <tr>\n",
       "      <th>3</th>\n",
       "      <td>-0.002692</td>\n",
       "      <td>1</td>\n",
       "      <td>1</td>\n",
       "      <td>-0.679254</td>\n",
       "      <td>-2.059544</td>\n",
       "      <td>1.466451</td>\n",
       "      <td>1</td>\n",
       "      <td>0.026209</td>\n",
       "      <td>0.055555</td>\n",
       "      <td>0.103153</td>\n",
       "      <td>1.398297</td>\n",
       "      <td>1.432374</td>\n",
       "    </tr>\n",
       "    <tr>\n",
       "      <th>4</th>\n",
       "      <td>-0.002692</td>\n",
       "      <td>2</td>\n",
       "      <td>2</td>\n",
       "      <td>-2.132773</td>\n",
       "      <td>2.926302</td>\n",
       "      <td>1.679832</td>\n",
       "      <td>0</td>\n",
       "      <td>0.023633</td>\n",
       "      <td>0.081818</td>\n",
       "      <td>0.103244</td>\n",
       "      <td>1.545116</td>\n",
       "      <td>1.612474</td>\n",
       "    </tr>\n",
       "  </tbody>\n",
       "</table>\n",
       "</div>"
      ],
      "text/plain": [
       "   MSISDN/Number  cluster_x  sessions  Dur. (ms).1  total_data  \\\n",
       "0      -0.002692          2         1     0.146799    1.139608   \n",
       "1      -0.002692          1         1     0.944041   -1.812243   \n",
       "2      -0.002692          0         1     0.372328    0.256948   \n",
       "3      -0.002692          1         1    -0.679254   -2.059544   \n",
       "4      -0.002692          2         2    -2.132773    2.926302   \n",
       "\n",
       "   engagement_score  cluster_y  avg_rtt_total  avg_tp_total  \\\n",
       "0          1.171339          1       0.024925      0.055505   \n",
       "1          1.018048          1       0.024834      0.055524   \n",
       "2          0.565240          1       0.026789      0.055522   \n",
       "3          1.466451          1       0.026209      0.055555   \n",
       "4          1.679832          0       0.023633      0.081818   \n",
       "\n",
       "   total_avg_tcp_total  experience_score  satisfaction_score  \n",
       "0             0.103643          1.135669            1.153504  \n",
       "1             0.103643          0.970135            0.994092  \n",
       "2             0.103643          0.708180            0.636710  \n",
       "3             0.103153          1.398297            1.432374  \n",
       "4             0.103244          1.545116            1.612474  "
      ]
     },
     "execution_count": 20,
     "metadata": {},
     "output_type": "execute_result"
    }
   ],
   "source": [
    "user_df = pd.merge(user_eng_df, user_exp, on='MSISDN/Number')\n",
    "user_df['satisfaction_score'] = (\n",
    "    user_df['engagement_score'] + user_df['experience_score'])/2\n",
    "user_df.head(5)"
   ]
  },
  {
   "cell_type": "code",
   "execution_count": 21,
   "metadata": {},
   "outputs": [],
   "source": [
    "satisfaction_df = user_df[['MSISDN/Number', 'engagement_score',\n",
    "                        'experience_score', 'satisfaction_score']]\n",
    "satisfaction_df = satisfaction_df.set_index('MSISDN/Number')"
   ]
  },
  {
   "cell_type": "code",
   "execution_count": 22,
   "metadata": {},
   "outputs": [
    {
     "data": {
      "text/html": [
       "<div>\n",
       "<style scoped>\n",
       "    .dataframe tbody tr th:only-of-type {\n",
       "        vertical-align: middle;\n",
       "    }\n",
       "\n",
       "    .dataframe tbody tr th {\n",
       "        vertical-align: top;\n",
       "    }\n",
       "\n",
       "    .dataframe thead th {\n",
       "        text-align: right;\n",
       "    }\n",
       "</style>\n",
       "<table border=\"1\" class=\"dataframe\">\n",
       "  <thead>\n",
       "    <tr style=\"text-align: right;\">\n",
       "      <th></th>\n",
       "      <th>engagement_score</th>\n",
       "      <th>experience_score</th>\n",
       "      <th>satisfaction_score</th>\n",
       "    </tr>\n",
       "    <tr>\n",
       "      <th>MSISDN/Number</th>\n",
       "      <th></th>\n",
       "      <th></th>\n",
       "      <th></th>\n",
       "    </tr>\n",
       "  </thead>\n",
       "  <tbody>\n",
       "    <tr>\n",
       "      <th>-0.002509</th>\n",
       "      <td>1.911084</td>\n",
       "      <td>1.753999</td>\n",
       "      <td>1.832541</td>\n",
       "    </tr>\n",
       "    <tr>\n",
       "      <th>-0.002665</th>\n",
       "      <td>1.911402</td>\n",
       "      <td>1.753670</td>\n",
       "      <td>1.832536</td>\n",
       "    </tr>\n",
       "    <tr>\n",
       "      <th>-0.002581</th>\n",
       "      <td>1.910976</td>\n",
       "      <td>1.754090</td>\n",
       "      <td>1.832533</td>\n",
       "    </tr>\n",
       "    <tr>\n",
       "      <th>-0.002623</th>\n",
       "      <td>1.911369</td>\n",
       "      <td>1.753692</td>\n",
       "      <td>1.832530</td>\n",
       "    </tr>\n",
       "    <tr>\n",
       "      <th>-0.002637</th>\n",
       "      <td>1.911232</td>\n",
       "      <td>1.753819</td>\n",
       "      <td>1.832525</td>\n",
       "    </tr>\n",
       "    <tr>\n",
       "      <th>-0.002639</th>\n",
       "      <td>1.910573</td>\n",
       "      <td>1.754477</td>\n",
       "      <td>1.832525</td>\n",
       "    </tr>\n",
       "    <tr>\n",
       "      <th>-0.002641</th>\n",
       "      <td>1.910718</td>\n",
       "      <td>1.754324</td>\n",
       "      <td>1.832521</td>\n",
       "    </tr>\n",
       "    <tr>\n",
       "      <th>-0.002664</th>\n",
       "      <td>1.911513</td>\n",
       "      <td>1.753509</td>\n",
       "      <td>1.832511</td>\n",
       "    </tr>\n",
       "    <tr>\n",
       "      <th>-0.002613</th>\n",
       "      <td>1.911886</td>\n",
       "      <td>1.753114</td>\n",
       "      <td>1.832500</td>\n",
       "    </tr>\n",
       "    <tr>\n",
       "      <th>-0.002679</th>\n",
       "      <td>1.911948</td>\n",
       "      <td>1.753048</td>\n",
       "      <td>1.832498</td>\n",
       "    </tr>\n",
       "  </tbody>\n",
       "</table>\n",
       "</div>"
      ],
      "text/plain": [
       "               engagement_score  experience_score  satisfaction_score\n",
       "MSISDN/Number                                                        \n",
       "-0.002509              1.911084          1.753999            1.832541\n",
       "-0.002665              1.911402          1.753670            1.832536\n",
       "-0.002581              1.910976          1.754090            1.832533\n",
       "-0.002623              1.911369          1.753692            1.832530\n",
       "-0.002637              1.911232          1.753819            1.832525\n",
       "-0.002639              1.910573          1.754477            1.832525\n",
       "-0.002641              1.910718          1.754324            1.832521\n",
       "-0.002664              1.911513          1.753509            1.832511\n",
       "-0.002613              1.911886          1.753114            1.832500\n",
       "-0.002679              1.911948          1.753048            1.832498"
      ]
     },
     "execution_count": 22,
     "metadata": {},
     "output_type": "execute_result"
    }
   ],
   "source": [
    "top_10_satisfaction = satisfaction_df.nlargest(10, 'satisfaction_score')\n",
    "top_10_satisfaction.head(10)"
   ]
  },
  {
   "cell_type": "code",
   "execution_count": 23,
   "metadata": {},
   "outputs": [
    {
     "data": {
      "image/png": "[encoded data removed]",
      "text/plain": [
       "<Figure size 1200x700 with 1 Axes>"
      ]
     },
     "metadata": {},
     "output_type": "display_data"
    }
   ],
   "source": [
    "pl.plot_bar(top_10_satisfaction, top_10_satisfaction.index, top_10_satisfaction['satisfaction_score'],\n",
    "             \"Top 10 user satisfaction score\", \n",
    "            \"Users\", \"Satisfaction Score\")"
   ]
  },
  {
   "cell_type": "markdown",
   "metadata": {},
   "source": [
    "Build a regression model of your choice to predict the satisfaction score of a customer."
   ]
  },
  {
   "cell_type": "code",
   "execution_count": 24,
   "metadata": {},
   "outputs": [],
   "source": [
    "class Model:\n",
    "    def __init__(self,X_train,X_test,y_train,y_test):\n",
    "        self.X_train = X_train\n",
    "        self.X_test = X_test\n",
    "        self.y_train = y_train\n",
    "        self.y_test = y_test\n",
    "\n",
    "\n",
    "    def model(self):\n",
    "        self.trained_model = LinearRegression()\n",
    "        self.trained_model.fit(self.X_train, self.y_train)\n",
    "        \n",
    "\n",
    "    def predict(self):\n",
    "        self.model()\n",
    "        return self.trained_model.predict(self.X_test)\n",
    "\n",
    "    def score(self):\n",
    "        return self.trained_model.score(self.X_test, self.y_test)\n",
    "\n",
    "    def error_score(self):\n",
    "        return np.mean((self.trained_model.predict(self.X_test) - self.y_test) ** 2)\n",
    "    \n",
    "    def save_model(self, path):\n",
    "        pickle.dump(self.trained_model, open(path, 'wb'))"
   ]
  },
  {
   "cell_type": "markdown",
   "metadata": {},
   "source": [
    "Take X as the engagement score, engagement score and y as the satisfaction score."
   ]
  },
  {
   "cell_type": "code",
   "execution_count": 25,
   "metadata": {},
   "outputs": [],
   "source": [
    "X = satisfaction_df[['engagement_score', 'experience_score']]\n",
    "Y = satisfaction_df[['satisfaction_score']]\n",
    "X_train, X_test, y_train, y_test = model_selection.train_test_split(X, Y, test_size=0.2, random_state=42) "
   ]
  },
  {
   "cell_type": "code",
   "execution_count": 26,
   "metadata": {},
   "outputs": [
    {
     "data": {
      "text/plain": [
       "array([[1.57239728],\n",
       "       [1.61077638],\n",
       "       [1.42125841],\n",
       "       ...,\n",
       "       [1.32737214],\n",
       "       [1.31267132],\n",
       "       [1.34651664]])"
      ]
     },
     "execution_count": 26,
     "metadata": {},
     "output_type": "execute_result"
    }
   ],
   "source": [
    "model = Model(X_train, X_test, y_train, y_test)\n",
    "model.predict()"
   ]
  },
  {
   "cell_type": "code",
   "execution_count": 27,
   "metadata": {},
   "outputs": [
    {
     "data": {
      "text/plain": [
       "1.0"
      ]
     },
     "execution_count": 27,
     "metadata": {},
     "output_type": "execute_result"
    }
   ],
   "source": [
    "model.score()"
   ]
  },
  {
   "cell_type": "code",
   "execution_count": 28,
   "metadata": {},
   "outputs": [
    {
     "data": {
      "text/plain": [
       "6.909275260877704e-32"
      ]
     },
     "execution_count": 28,
     "metadata": {},
     "output_type": "execute_result"
    }
   ],
   "source": [
    "model.error_score()"
   ]
  },
  {
   "cell_type": "code",
   "execution_count": 29,
   "metadata": {},
   "outputs": [],
   "source": [
    "model.save_model(\"../models/satisfaction_model.pkl\")"
   ]
  },
  {
   "cell_type": "markdown",
   "metadata": {},
   "source": [
    "Run a k-means (k=2) on the engagement & the experience score "
   ]
  },
  {
   "cell_type": "code",
   "execution_count": 30,
   "metadata": {},
   "outputs": [
    {
     "data": {
      "text/html": [
       "<div>\n",
       "<style scoped>\n",
       "    .dataframe tbody tr th:only-of-type {\n",
       "        vertical-align: middle;\n",
       "    }\n",
       "\n",
       "    .dataframe tbody tr th {\n",
       "        vertical-align: top;\n",
       "    }\n",
       "\n",
       "    .dataframe thead th {\n",
       "        text-align: right;\n",
       "    }\n",
       "</style>\n",
       "<table border=\"1\" class=\"dataframe\">\n",
       "  <thead>\n",
       "    <tr style=\"text-align: right;\">\n",
       "      <th></th>\n",
       "      <th>MSISDN/Number</th>\n",
       "      <th>cluster_x</th>\n",
       "      <th>sessions</th>\n",
       "      <th>Dur. (ms).1</th>\n",
       "      <th>total_data</th>\n",
       "      <th>engagement_score</th>\n",
       "      <th>cluster_y</th>\n",
       "      <th>avg_rtt_total</th>\n",
       "      <th>avg_tp_total</th>\n",
       "      <th>total_avg_tcp_total</th>\n",
       "      <th>experience_score</th>\n",
       "      <th>satisfaction_score</th>\n",
       "    </tr>\n",
       "  </thead>\n",
       "  <tbody>\n",
       "    <tr>\n",
       "      <th>0</th>\n",
       "      <td>-0.002692</td>\n",
       "      <td>2</td>\n",
       "      <td>1</td>\n",
       "      <td>0.146799</td>\n",
       "      <td>1.139608</td>\n",
       "      <td>1.171339</td>\n",
       "      <td>1</td>\n",
       "      <td>0.024925</td>\n",
       "      <td>0.055505</td>\n",
       "      <td>0.103643</td>\n",
       "      <td>1.135669</td>\n",
       "      <td>1.153504</td>\n",
       "    </tr>\n",
       "    <tr>\n",
       "      <th>1</th>\n",
       "      <td>-0.002692</td>\n",
       "      <td>1</td>\n",
       "      <td>1</td>\n",
       "      <td>0.944041</td>\n",
       "      <td>-1.812243</td>\n",
       "      <td>1.018048</td>\n",
       "      <td>1</td>\n",
       "      <td>0.024834</td>\n",
       "      <td>0.055524</td>\n",
       "      <td>0.103643</td>\n",
       "      <td>0.970135</td>\n",
       "      <td>0.994092</td>\n",
       "    </tr>\n",
       "    <tr>\n",
       "      <th>2</th>\n",
       "      <td>-0.002692</td>\n",
       "      <td>0</td>\n",
       "      <td>1</td>\n",
       "      <td>0.372328</td>\n",
       "      <td>0.256948</td>\n",
       "      <td>0.565240</td>\n",
       "      <td>1</td>\n",
       "      <td>0.026789</td>\n",
       "      <td>0.055522</td>\n",
       "      <td>0.103643</td>\n",
       "      <td>0.708180</td>\n",
       "      <td>0.636710</td>\n",
       "    </tr>\n",
       "    <tr>\n",
       "      <th>3</th>\n",
       "      <td>-0.002692</td>\n",
       "      <td>1</td>\n",
       "      <td>1</td>\n",
       "      <td>-0.679254</td>\n",
       "      <td>-2.059544</td>\n",
       "      <td>1.466451</td>\n",
       "      <td>1</td>\n",
       "      <td>0.026209</td>\n",
       "      <td>0.055555</td>\n",
       "      <td>0.103153</td>\n",
       "      <td>1.398297</td>\n",
       "      <td>1.432374</td>\n",
       "    </tr>\n",
       "    <tr>\n",
       "      <th>4</th>\n",
       "      <td>-0.002692</td>\n",
       "      <td>2</td>\n",
       "      <td>2</td>\n",
       "      <td>-2.132773</td>\n",
       "      <td>2.926302</td>\n",
       "      <td>1.679832</td>\n",
       "      <td>0</td>\n",
       "      <td>0.023633</td>\n",
       "      <td>0.081818</td>\n",
       "      <td>0.103244</td>\n",
       "      <td>1.545116</td>\n",
       "      <td>1.612474</td>\n",
       "    </tr>\n",
       "  </tbody>\n",
       "</table>\n",
       "</div>"
      ],
      "text/plain": [
       "   MSISDN/Number  cluster_x  sessions  Dur. (ms).1  total_data  \\\n",
       "0      -0.002692          2         1     0.146799    1.139608   \n",
       "1      -0.002692          1         1     0.944041   -1.812243   \n",
       "2      -0.002692          0         1     0.372328    0.256948   \n",
       "3      -0.002692          1         1    -0.679254   -2.059544   \n",
       "4      -0.002692          2         2    -2.132773    2.926302   \n",
       "\n",
       "   engagement_score  cluster_y  avg_rtt_total  avg_tp_total  \\\n",
       "0          1.171339          1       0.024925      0.055505   \n",
       "1          1.018048          1       0.024834      0.055524   \n",
       "2          0.565240          1       0.026789      0.055522   \n",
       "3          1.466451          1       0.026209      0.055555   \n",
       "4          1.679832          0       0.023633      0.081818   \n",
       "\n",
       "   total_avg_tcp_total  experience_score  satisfaction_score  \n",
       "0             0.103643          1.135669            1.153504  \n",
       "1             0.103643          0.970135            0.994092  \n",
       "2             0.103643          0.708180            0.636710  \n",
       "3             0.103153          1.398297            1.432374  \n",
       "4             0.103244          1.545116            1.612474  "
      ]
     },
     "execution_count": 30,
     "metadata": {},
     "output_type": "execute_result"
    }
   ],
   "source": [
    "user_df.head()"
   ]
  },
  {
   "cell_type": "code",
   "execution_count": 31,
   "metadata": {},
   "outputs": [
    {
     "data": {
      "text/html": [
       "<div>\n",
       "<style scoped>\n",
       "    .dataframe tbody tr th:only-of-type {\n",
       "        vertical-align: middle;\n",
       "    }\n",
       "\n",
       "    .dataframe tbody tr th {\n",
       "        vertical-align: top;\n",
       "    }\n",
       "\n",
       "    .dataframe thead th {\n",
       "        text-align: right;\n",
       "    }\n",
       "</style>\n",
       "<table border=\"1\" class=\"dataframe\">\n",
       "  <thead>\n",
       "    <tr style=\"text-align: right;\">\n",
       "      <th></th>\n",
       "      <th>engagement_score</th>\n",
       "      <th>experience_score</th>\n",
       "    </tr>\n",
       "    <tr>\n",
       "      <th>MSISDN/Number</th>\n",
       "      <th></th>\n",
       "      <th></th>\n",
       "    </tr>\n",
       "  </thead>\n",
       "  <tbody>\n",
       "    <tr>\n",
       "      <th>-0.002692</th>\n",
       "      <td>1.171339</td>\n",
       "      <td>1.135669</td>\n",
       "    </tr>\n",
       "    <tr>\n",
       "      <th>-0.002692</th>\n",
       "      <td>1.018048</td>\n",
       "      <td>0.970135</td>\n",
       "    </tr>\n",
       "    <tr>\n",
       "      <th>-0.002692</th>\n",
       "      <td>0.565240</td>\n",
       "      <td>0.708180</td>\n",
       "    </tr>\n",
       "    <tr>\n",
       "      <th>-0.002692</th>\n",
       "      <td>1.466451</td>\n",
       "      <td>1.398297</td>\n",
       "    </tr>\n",
       "    <tr>\n",
       "      <th>-0.002692</th>\n",
       "      <td>1.679832</td>\n",
       "      <td>1.545116</td>\n",
       "    </tr>\n",
       "  </tbody>\n",
       "</table>\n",
       "</div>"
      ],
      "text/plain": [
       "               engagement_score  experience_score\n",
       "MSISDN/Number                                    \n",
       "-0.002692              1.171339          1.135669\n",
       "-0.002692              1.018048          0.970135\n",
       "-0.002692              0.565240          0.708180\n",
       "-0.002692              1.466451          1.398297\n",
       "-0.002692              1.679832          1.545116"
      ]
     },
     "execution_count": 31,
     "metadata": {},
     "output_type": "execute_result"
    }
   ],
   "source": [
    "user_satisfaction_df = user_df[[\n",
    "    'MSISDN/Number', \n",
    "    'engagement_score',\n",
    "    'experience_score']]\n",
    "user_satisfaction_df = user_satisfaction_df.set_index('MSISDN/Number')\n",
    "\n",
    "user_satisfaction_df.head()"
   ]
  },
  {
   "cell_type": "markdown",
   "metadata": {},
   "source": [
    "scale the data & normalize the data for clustering"
   ]
  },
  {
   "cell_type": "code",
   "execution_count": 32,
   "metadata": {},
   "outputs": [
    {
     "data": {
      "text/html": [
       "<div>\n",
       "<style scoped>\n",
       "    .dataframe tbody tr th:only-of-type {\n",
       "        vertical-align: middle;\n",
       "    }\n",
       "\n",
       "    .dataframe tbody tr th {\n",
       "        vertical-align: top;\n",
       "    }\n",
       "\n",
       "    .dataframe thead th {\n",
       "        text-align: right;\n",
       "    }\n",
       "</style>\n",
       "<table border=\"1\" class=\"dataframe\">\n",
       "  <thead>\n",
       "    <tr style=\"text-align: right;\">\n",
       "      <th></th>\n",
       "      <th>engagement_score</th>\n",
       "      <th>experience_score</th>\n",
       "    </tr>\n",
       "    <tr>\n",
       "      <th>MSISDN/Number</th>\n",
       "      <th></th>\n",
       "      <th></th>\n",
       "    </tr>\n",
       "  </thead>\n",
       "  <tbody>\n",
       "    <tr>\n",
       "      <th>-0.002692</th>\n",
       "      <td>1.171339</td>\n",
       "      <td>1.135669</td>\n",
       "    </tr>\n",
       "    <tr>\n",
       "      <th>-0.002692</th>\n",
       "      <td>1.018048</td>\n",
       "      <td>0.970135</td>\n",
       "    </tr>\n",
       "    <tr>\n",
       "      <th>-0.002692</th>\n",
       "      <td>0.565240</td>\n",
       "      <td>0.708180</td>\n",
       "    </tr>\n",
       "    <tr>\n",
       "      <th>-0.002692</th>\n",
       "      <td>1.466451</td>\n",
       "      <td>1.398297</td>\n",
       "    </tr>\n",
       "    <tr>\n",
       "      <th>-0.002692</th>\n",
       "      <td>1.679832</td>\n",
       "      <td>1.545116</td>\n",
       "    </tr>\n",
       "    <tr>\n",
       "      <th>...</th>\n",
       "      <td>...</td>\n",
       "      <td>...</td>\n",
       "    </tr>\n",
       "    <tr>\n",
       "      <th>-0.002476</th>\n",
       "      <td>1.570556</td>\n",
       "      <td>1.345472</td>\n",
       "    </tr>\n",
       "    <tr>\n",
       "      <th>-0.002476</th>\n",
       "      <td>1.737095</td>\n",
       "      <td>1.678153</td>\n",
       "    </tr>\n",
       "    <tr>\n",
       "      <th>-0.002476</th>\n",
       "      <td>0.762935</td>\n",
       "      <td>0.820964</td>\n",
       "    </tr>\n",
       "    <tr>\n",
       "      <th>0.000000</th>\n",
       "      <td>1.785946</td>\n",
       "      <td>1.541016</td>\n",
       "    </tr>\n",
       "    <tr>\n",
       "      <th>384.741467</th>\n",
       "      <td>0.770851</td>\n",
       "      <td>0.711357</td>\n",
       "    </tr>\n",
       "  </tbody>\n",
       "</table>\n",
       "<p>106294 rows × 2 columns</p>\n",
       "</div>"
      ],
      "text/plain": [
       "               engagement_score  experience_score\n",
       "MSISDN/Number                                    \n",
       "-0.002692              1.171339          1.135669\n",
       "-0.002692              1.018048          0.970135\n",
       "-0.002692              0.565240          0.708180\n",
       "-0.002692              1.466451          1.398297\n",
       "-0.002692              1.679832          1.545116\n",
       "...                         ...               ...\n",
       "-0.002476              1.570556          1.345472\n",
       "-0.002476              1.737095          1.678153\n",
       "-0.002476              0.762935          0.820964\n",
       " 0.000000              1.785946          1.541016\n",
       " 384.741467            0.770851          0.711357\n",
       "\n",
       "[106294 rows x 2 columns]"
      ]
     },
     "execution_count": 32,
     "metadata": {},
     "output_type": "execute_result"
    }
   ],
   "source": [
    "from sklearn.preprocessing import Normalizer\n",
    "\n",
    "def normalizer(df, columns):\n",
    "    norm = Normalizer()\n",
    "    # normalize the exponential data with boxcox\n",
    "    return pd.DataFrame(norm.fit_transform(df), columns=columns)\n",
    "\n",
    "user_satisfaction_df"
   ]
  },
  {
   "cell_type": "code",
   "execution_count": 33,
   "metadata": {},
   "outputs": [],
   "source": [
    "normalized_df = normalizer(user_satisfaction_df, ['engagement_score', 'experience_score'] )"
   ]
  },
  {
   "cell_type": "code",
   "execution_count": 34,
   "metadata": {},
   "outputs": [],
   "source": [
    "normalized_sat_df = normalized_df.copy()"
   ]
  },
  {
   "cell_type": "code",
   "execution_count": 35,
   "metadata": {},
   "outputs": [],
   "source": [
    "kmeans = KMeans(init=\"random\",n_clusters=2,n_init=10,max_iter=300,random_state=42)\n",
    "label = kmeans.fit_predict(normalized_sat_df)\n",
    "centroids = kmeans.cluster_centers_"
   ]
  },
  {
   "cell_type": "code",
   "execution_count": 36,
   "metadata": {},
   "outputs": [
    {
     "data": {
      "image/png": "[encoded data removed]",
      "text/plain": [
       "<Figure size 1000x500 with 1 Axes>"
      ]
     },
     "metadata": {},
     "output_type": "display_data"
    }
   ],
   "source": [
    "lables_unique = np.unique(label)\n",
    "#plotting the results:\n",
    "plt.figure(figsize=(10,5))\n",
    "plt.title('User K-Means Classification with 2 Groups (Standardized Data)')\n",
    "for i in lables_unique:\n",
    "    plt.scatter(normalized_sat_df[label == i].iloc[:,0] , normalized_sat_df[label == i].iloc[:,1], marker='o', label = i)\n",
    "plt.scatter(centroids[:,0] , centroids[:,1], marker='x', color = 'black')\n",
    "plt.legend()\n",
    "plt.show()"
   ]
  },
  {
   "cell_type": "code",
   "execution_count": 37,
   "metadata": {},
   "outputs": [
    {
     "data": {
      "text/html": [
       "<div>\n",
       "<style scoped>\n",
       "    .dataframe tbody tr th:only-of-type {\n",
       "        vertical-align: middle;\n",
       "    }\n",
       "\n",
       "    .dataframe tbody tr th {\n",
       "        vertical-align: top;\n",
       "    }\n",
       "\n",
       "    .dataframe thead th {\n",
       "        text-align: right;\n",
       "    }\n",
       "</style>\n",
       "<table border=\"1\" class=\"dataframe\">\n",
       "  <thead>\n",
       "    <tr style=\"text-align: right;\">\n",
       "      <th></th>\n",
       "      <th>engagement_score</th>\n",
       "      <th>experience_score</th>\n",
       "    </tr>\n",
       "  </thead>\n",
       "  <tbody>\n",
       "    <tr>\n",
       "      <th>0</th>\n",
       "      <td>0.717954</td>\n",
       "      <td>0.696091</td>\n",
       "    </tr>\n",
       "    <tr>\n",
       "      <th>1</th>\n",
       "      <td>0.723937</td>\n",
       "      <td>0.689866</td>\n",
       "    </tr>\n",
       "    <tr>\n",
       "      <th>2</th>\n",
       "      <td>0.623817</td>\n",
       "      <td>0.781570</td>\n",
       "    </tr>\n",
       "    <tr>\n",
       "      <th>3</th>\n",
       "      <td>0.723724</td>\n",
       "      <td>0.690089</td>\n",
       "    </tr>\n",
       "    <tr>\n",
       "      <th>4</th>\n",
       "      <td>0.736003</td>\n",
       "      <td>0.676978</td>\n",
       "    </tr>\n",
       "  </tbody>\n",
       "</table>\n",
       "</div>"
      ],
      "text/plain": [
       "   engagement_score  experience_score\n",
       "0          0.717954          0.696091\n",
       "1          0.723937          0.689866\n",
       "2          0.623817          0.781570\n",
       "3          0.723724          0.690089\n",
       "4          0.736003          0.676978"
      ]
     },
     "execution_count": 37,
     "metadata": {},
     "output_type": "execute_result"
    }
   ],
   "source": [
    "normalized_sat_df.head()"
   ]
  },
  {
   "cell_type": "code",
   "execution_count": 38,
   "metadata": {},
   "outputs": [],
   "source": [
    "u_sat_eng = user_satisfaction_df.copy()"
   ]
  },
  {
   "cell_type": "code",
   "execution_count": 39,
   "metadata": {},
   "outputs": [
    {
     "data": {
      "text/html": [
       "<div>\n",
       "<style scoped>\n",
       "    .dataframe tbody tr th:only-of-type {\n",
       "        vertical-align: middle;\n",
       "    }\n",
       "\n",
       "    .dataframe tbody tr th {\n",
       "        vertical-align: top;\n",
       "    }\n",
       "\n",
       "    .dataframe thead th {\n",
       "        text-align: right;\n",
       "    }\n",
       "</style>\n",
       "<table border=\"1\" class=\"dataframe\">\n",
       "  <thead>\n",
       "    <tr style=\"text-align: right;\">\n",
       "      <th></th>\n",
       "      <th>cluster</th>\n",
       "      <th>engagement_score</th>\n",
       "      <th>experience_score</th>\n",
       "    </tr>\n",
       "    <tr>\n",
       "      <th>MSISDN/Number</th>\n",
       "      <th></th>\n",
       "      <th></th>\n",
       "      <th></th>\n",
       "    </tr>\n",
       "  </thead>\n",
       "  <tbody>\n",
       "    <tr>\n",
       "      <th>-0.002692</th>\n",
       "      <td>1</td>\n",
       "      <td>1.171339</td>\n",
       "      <td>1.135669</td>\n",
       "    </tr>\n",
       "    <tr>\n",
       "      <th>-0.002692</th>\n",
       "      <td>1</td>\n",
       "      <td>1.018048</td>\n",
       "      <td>0.970135</td>\n",
       "    </tr>\n",
       "    <tr>\n",
       "      <th>-0.002692</th>\n",
       "      <td>0</td>\n",
       "      <td>0.565240</td>\n",
       "      <td>0.708180</td>\n",
       "    </tr>\n",
       "    <tr>\n",
       "      <th>-0.002692</th>\n",
       "      <td>1</td>\n",
       "      <td>1.466451</td>\n",
       "      <td>1.398297</td>\n",
       "    </tr>\n",
       "    <tr>\n",
       "      <th>-0.002692</th>\n",
       "      <td>1</td>\n",
       "      <td>1.679832</td>\n",
       "      <td>1.545116</td>\n",
       "    </tr>\n",
       "  </tbody>\n",
       "</table>\n",
       "</div>"
      ],
      "text/plain": [
       "               cluster  engagement_score  experience_score\n",
       "MSISDN/Number                                             \n",
       "-0.002692            1          1.171339          1.135669\n",
       "-0.002692            1          1.018048          0.970135\n",
       "-0.002692            0          0.565240          0.708180\n",
       "-0.002692            1          1.466451          1.398297\n",
       "-0.002692            1          1.679832          1.545116"
      ]
     },
     "execution_count": 39,
     "metadata": {},
     "output_type": "execute_result"
    }
   ],
   "source": [
    "u_sat_eng.insert(0, 'cluster', kmeans.labels_)\n",
    "u_sat_eng.head(5)"
   ]
  },
  {
   "cell_type": "markdown",
   "metadata": {},
   "source": [
    "Save the data"
   ]
  },
  {
   "cell_type": "code",
   "execution_count": 40,
   "metadata": {},
   "outputs": [],
   "source": [
    "u_sat_eng.to_csv('../data/user_satisfaction.csv')"
   ]
  },
  {
   "cell_type": "markdown",
   "metadata": {},
   "source": [
    "Aggregate the average satisfaction & experience score per cluster."
   ]
  },
  {
   "cell_type": "code",
   "execution_count": 41,
   "metadata": {},
   "outputs": [],
   "source": [
    "agg_sat = u_sat_eng.groupby('cluster').agg(\n",
    "    {'engagement_score': 'sum', 'experience_score': 'sum'})"
   ]
  },
  {
   "cell_type": "code",
   "execution_count": 42,
   "metadata": {},
   "outputs": [],
   "source": [
    "agg_sat_df = pd.DataFrame()\n",
    "agg_sat_df['cluster'] = agg_sat.index\n",
    "agg_sat_df['engagement_score'] = agg_sat['engagement_score']\n",
    "agg_sat_df['experience_score'] = agg_sat['experience_score']"
   ]
  },
  {
   "cell_type": "code",
   "execution_count": 43,
   "metadata": {},
   "outputs": [
    {
     "data": {
      "text/html": [
       "<div>\n",
       "<style scoped>\n",
       "    .dataframe tbody tr th:only-of-type {\n",
       "        vertical-align: middle;\n",
       "    }\n",
       "\n",
       "    .dataframe tbody tr th {\n",
       "        vertical-align: top;\n",
       "    }\n",
       "\n",
       "    .dataframe thead th {\n",
       "        text-align: right;\n",
       "    }\n",
       "</style>\n",
       "<table border=\"1\" class=\"dataframe\">\n",
       "  <thead>\n",
       "    <tr style=\"text-align: right;\">\n",
       "      <th></th>\n",
       "      <th>cluster</th>\n",
       "      <th>engagement_score</th>\n",
       "      <th>experience_score</th>\n",
       "    </tr>\n",
       "  </thead>\n",
       "  <tbody>\n",
       "    <tr>\n",
       "      <th>0</th>\n",
       "      <td>0</td>\n",
       "      <td>1126.466101</td>\n",
       "      <td>1746.399995</td>\n",
       "    </tr>\n",
       "    <tr>\n",
       "      <th>1</th>\n",
       "      <td>1</td>\n",
       "      <td>137162.493332</td>\n",
       "      <td>129561.939895</td>\n",
       "    </tr>\n",
       "  </tbody>\n",
       "</table>\n",
       "</div>"
      ],
      "text/plain": [
       "   cluster  engagement_score  experience_score\n",
       "0        0       1126.466101       1746.399995\n",
       "1        1     137162.493332     129561.939895"
      ]
     },
     "execution_count": 43,
     "metadata": {},
     "output_type": "execute_result"
    }
   ],
   "source": [
    "agg_sat_df.head()"
   ]
  },
  {
   "cell_type": "code",
   "execution_count": 44,
   "metadata": {},
   "outputs": [
    {
     "data": {
      "text/plain": [
       "<Axes: xlabel='cluster', ylabel='engagement_score'>"
      ]
     },
     "execution_count": 44,
     "metadata": {},
     "output_type": "execute_result"
    },
    {
     "data": {
      "image/png": "[encoded data removed]",
      "text/plain": [
       "<Figure size 640x480 with 1 Axes>"
      ]
     },
     "metadata": {},
     "output_type": "display_data"
    }
   ],
   "source": [
    "sns.barplot(x=\"cluster\", y=\"engagement_score\", hue=\"cluster\", data=agg_sat_df)"
   ]
  },
  {
   "cell_type": "markdown",
   "metadata": {},
   "source": [
    "Export your final table containing all user id + engagement, experience & satisfaction scores in your local MySQL database. Report a screenshot of a select query output on the exported table."
   ]
  },
  {
   "cell_type": "markdown",
   "metadata": {},
   "source": [
    "Add to postgresql database"
   ]
  },
  {
   "cell_type": "code",
   "execution_count": 47,
   "metadata": {},
   "outputs": [
    {
     "name": "stdout",
     "output_type": "stream",
     "text": [
      "Connection established to:  ('PostgreSQL 16.4, compiled by Visual C++ build 1940, 64-bit',)\n",
      "Error:  (psycopg2.OperationalError) could not translate host name \"607625@localhost\" to address: A non-recoverable error occurred during a database lookup. \n",
      "\n",
      "(Background on this error at: https://sqlalche.me/e/20/e3q8)\n"
     ]
    }
   ],
   "source": [
    "from sqlalchemy import create_engine\n",
    "\n",
    "# Create SQLAlchemy engine for PostgreSQL\n",
    "engine = create_engine('postgresql://postgres:passwardlocalhost:5432/telecom')\n",
    "\n",
    "# Connect using psycopg2\n",
    "try:\n",
    "    conn = psycopg2.connect(\n",
    "        database='telecom', user='postgres', password='passward', host='localhost', port=5432\n",
    "    )\n",
    "    cursor = conn.cursor()\n",
    "    cursor.execute(\"SELECT version()\")\n",
    "    data = cursor.fetchone()\n",
    "    print(\"Connection established to: \", data)\n",
    "\n",
    "    # Upload the DataFrame to the SQL database\n",
    "    agg_sat_df.to_sql('user_satisfaction', engine, if_exists='replace', index=False)\n",
    "\n",
    "except (Exception, psycopg2.Error) as error:\n",
    "    print(\"Error: \", error)\n",
    "finally:\n",
    "    if conn:\n",
    "        cursor.close()\n",
    "        conn.close()"
   ]
  }
 ],
 "metadata": {
  "kernelspec": {
   "display_name": "myvenv",
   "language": "python",
   "name": "python3"
  },
  "language_info": {
   "codemirror_mode": {
    "name": "ipython",
    "version": 3
   },
   "file_extension": ".py",
   "mimetype": "text/x-python",
   "name": "python",
   "nbconvert_exporter": "python",
   "pygments_lexer": "ipython3",
   "version": "3.11.7"
  }
 },
 "nbformat": 4,
 "nbformat_minor": 2
}
